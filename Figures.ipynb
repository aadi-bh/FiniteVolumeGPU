{
 "cells": [
  {
   "cell_type": "code",
   "execution_count": 2,
   "metadata": {},
   "outputs": [],
   "source": [
    "%matplotlib inline\n",
    "\n",
    "import numpy as np\n",
    "import os\n",
    "import json\n",
    "import pandas as pd\n",
    "from matplotlib import pyplot as plt"
   ]
  },
  {
   "cell_type": "code",
   "execution_count": 3,
   "metadata": {},
   "outputs": [],
   "source": [
    "nproc = range(1, 17)"
   ]
  },
  {
   "cell_type": "code",
   "execution_count": 4,
   "metadata": {},
   "outputs": [],
   "source": [
    "def speedup(t_serial, t):\n",
    "    return t_serial/t"
   ]
  },
  {
   "cell_type": "code",
   "execution_count": 5,
   "metadata": {},
   "outputs": [],
   "source": [
    "def read_profiling_files(profile_dir_path=\".\"):\n",
    "    profiling_data = pd.DataFrame()\n",
    "\n",
    "    json_filenames = [file for file in os.listdir(profile_dir_path) if file.endswith(\"_profiling.json\")]\n",
    "\n",
    "    for json_filename in json_filenames:\n",
    "        with open(os.path.join(profile_dir_path, json_filename)) as json_file:\n",
    "            profiling_data = profiling_data.append(json.load(json_file), ignore_index=True)\n",
    "            profiling_data = profiling_data.sort_values(by=[\"n_processes\"], ignore_index=True)\n",
    "\n",
    "    profiling_data.n_processes = profiling_data.n_processes.astype(int)\n",
    "    profiling_data = profiling_data.sort_values(by=[\"n_processes\"], ignore_index=True)\n",
    "\n",
    "    return profiling_data"
   ]
  },
  {
   "cell_type": "markdown",
   "metadata": {},
   "source": [
    "## Weak scaling"
   ]
  },
  {
   "cell_type": "code",
   "execution_count": 6,
   "metadata": {},
   "outputs": [
    {
     "name": "stdout",
     "output_type": "stream",
     "text": [
      "     t_init    t_total                                            outfile  \\\n",
      "0  1.248385  20.045867  /work/martinls/230527/ShallowWaterGPU/mpi_out_...   \n",
      "1  1.687006  21.810200  /work/martinls/230528/ShallowWaterGPU/mpi_out_...   \n",
      "2  2.178354  24.593490  /work/martinls/230530/ShallowWaterGPU/mpi_out_...   \n",
      "3  2.690906  25.624513  /work/martinls/230531/ShallowWaterGPU/mpi_out_...   \n",
      "4  3.629718  26.697773  /work/martinls/230532/ShallowWaterGPU/mpi_out_...   \n",
      "5  4.364927  27.958164  /work/martinls/230533/ShallowWaterGPU/mpi_out_...   \n",
      "6  5.628270  29.105025  /work/martinls/230534/ShallowWaterGPU/mpi_out_...   \n",
      "7  6.777608  30.504384  /work/martinls/230535/ShallowWaterGPU/mpi_out_...   \n",
      "\n",
      "   t_sim_init  t_nc_write  t_full_step  t_mpi_halo_exchange  \\\n",
      "0    1.880793   12.403532     4.007889                  0.0   \n",
      "1    2.117109   12.576457     4.909249                  0.0   \n",
      "2    2.050483   12.774502     7.045701                  0.0   \n",
      "3    2.216515   13.096246     7.060501                  0.0   \n",
      "4    2.259021   13.178762     7.057118                  0.0   \n",
      "5    2.455840   13.353797     7.218295                  0.0   \n",
      "6    2.354878   13.576300     6.985424                  0.0   \n",
      "7    2.688699   13.492631     6.996821                  0.0   \n",
      "\n",
      "   t_mpi_halo_exchange_download  t_mpi_halo_exchange_upload  \\\n",
      "0                      3.883057                    0.025879   \n",
      "1                      4.622559                    0.027954   \n",
      "2                      3.596680                    0.027832   \n",
      "3                      6.201660                    0.028931   \n",
      "4                      3.875732                    0.027222   \n",
      "5                      4.124268                    0.028076   \n",
      "6                      4.145630                    0.028564   \n",
      "7                      5.710327                    0.030151   \n",
      "\n",
      "   t_mpi_halo_exchange_sendreceive  t_mpi_step      nx      ny        dt  \\\n",
      "0                         0.015381    0.017944  8192.0  8192.0  0.000001   \n",
      "1                         0.122803    0.018860  8192.0  8192.0  0.000001   \n",
      "2                         3.337158    0.019775  8192.0  8192.0  0.000001   \n",
      "3                         0.542480    0.019165  8192.0  8192.0  0.000001   \n",
      "4                         0.423584    0.020264  8192.0  8192.0  0.000001   \n",
      "5                         2.685059    0.019531  8192.0  8192.0  0.000001   \n",
      "6                         0.510254    0.019775  8192.0  8192.0  0.000001   \n",
      "7                         0.753418    0.018982  8192.0  8192.0  0.000001   \n",
      "\n",
      "   n_time_steps  slurm_job_id n_cuda_devices  n_processes  \\\n",
      "0         200.0      230527.0              1            1   \n",
      "1         200.0      230528.0              2            2   \n",
      "2         200.0      230530.0              3            3   \n",
      "3         200.0      230531.0              4            4   \n",
      "4         200.0      230532.0              5            5   \n",
      "5         200.0      230533.0              6            6   \n",
      "6         200.0      230534.0              7            7   \n",
      "7         200.0      230535.0              8            8   \n",
      "\n",
      "                                     git_hash  \\\n",
      "0  0f0cbad2dd661c59f9a2c43740eda12d90cca413\\n   \n",
      "1  0f0cbad2dd661c59f9a2c43740eda12d90cca413\\n   \n",
      "2  0f0cbad2dd661c59f9a2c43740eda12d90cca413\\n   \n",
      "3  0f0cbad2dd661c59f9a2c43740eda12d90cca413\\n   \n",
      "4  0f0cbad2dd661c59f9a2c43740eda12d90cca413\\n   \n",
      "5  0f0cbad2dd661c59f9a2c43740eda12d90cca413\\n   \n",
      "6  0f0cbad2dd661c59f9a2c43740eda12d90cca413\\n   \n",
      "7  0f0cbad2dd661c59f9a2c43740eda12d90cca413\\n   \n",
      "\n",
      "                                          git_status  \n",
      "0   M Figures.ipynb\\n M dgx-2_strong_scaling_benc...  \n",
      "1   M Figures.ipynb\\n M dgx-2_strong_scaling_benc...  \n",
      "2   M Figures.ipynb\\n M dgx-2_strong_scaling_benc...  \n",
      "3   M Figures.ipynb\\n M dgx-2_strong_scaling_benc...  \n",
      "4   M Figures.ipynb\\n M dgx-2_strong_scaling_benc...  \n",
      "5   M Figures.ipynb\\n M dgx-2_strong_scaling_benc...  \n",
      "6   M Figures.ipynb\\n M dgx-2_strong_scaling_benc...  \n",
      "7   M Figures.ipynb\\n M dgx-2_strong_scaling_benc...  \n"
     ]
    }
   ],
   "source": [
    "# DGX-2\n",
    "#weak_scaling_profiling_data = read_profiling_files(\"output_dgx-2/weak_scaling/2022-06-09T134809/\")\n",
    "\n",
    "# HGX\n",
    "weak_scaling_profiling_data = read_profiling_files(\"output_hgx/weak_scaling/2022-06-16T162931/\")\n",
    "##weak_scaling_profiling_data = read_profiling_files(\"output_hgx/weak_scaling/2022-06-16T170630/\")\n",
    "\n",
    "print(weak_scaling_profiling_data)"
   ]
  },
  {
   "cell_type": "markdown",
   "metadata": {},
   "source": [
    "## Strong scaling"
   ]
  },
  {
   "cell_type": "code",
   "execution_count": 7,
   "metadata": {},
   "outputs": [],
   "source": [
    "def amdahls_speedup(parallel_share, nproc):\n",
    "    serial_share = 1.0 - parallel_share\n",
    "    return [1.0 / (serial_share + parallel_share / float(n)) for n in nproc]"
   ]
  },
  {
   "cell_type": "code",
   "execution_count": 8,
   "metadata": {},
   "outputs": [],
   "source": [
    "def gustafsons_speedup(parallel_share, nproc):\n",
    "    serial_share = 1.0 - parallel_share\n",
    "    return [serial_share + parallel_share * float(n) for n in nproc]"
   ]
  },
  {
   "cell_type": "code",
   "execution_count": 9,
   "metadata": {},
   "outputs": [
    {
     "name": "stdout",
     "output_type": "stream",
     "text": [
      "     t_init     t_total                                            outfile  \\\n",
      "0  8.105802  127.329448  /work/martinls/230507/ShallowWaterGPU/mpi_out_...   \n",
      "1  8.391940  106.173041  /work/martinls/230508/ShallowWaterGPU/mpi_out_...   \n",
      "2  8.316061   89.259504  /work/martinls/230509/ShallowWaterGPU/mpi_out_...   \n",
      "3  9.480870   82.180610  /work/martinls/230510/ShallowWaterGPU/mpi_out_...   \n",
      "4  9.948056   74.482449  /work/martinls/230511/ShallowWaterGPU/mpi_out_...   \n",
      "\n",
      "   t_sim_init  t_nc_write  t_full_step  t_mpi_halo_exchange  \\\n",
      "0    5.656313   88.769145    23.461966                  0.0   \n",
      "1    5.297291   72.174575    19.195057                  0.0   \n",
      "2    5.045456   58.199751    16.024106                  0.0   \n",
      "3    5.172412   52.463597    13.905023                  0.0   \n",
      "4    4.827947   46.293962    12.370357                  0.0   \n",
      "\n",
      "   t_mpi_halo_exchange_download  t_mpi_halo_exchange_upload  \\\n",
      "0                     21.429688                    0.028931   \n",
      "1                     15.628418                    0.031372   \n",
      "2                     13.573486                    0.030273   \n",
      "3                     11.412964                    0.030151   \n",
      "4                     10.445801                    0.030762   \n",
      "\n",
      "   t_mpi_halo_exchange_sendreceive  t_mpi_step       nx       ny        dt  \\\n",
      "0                         1.946533    0.019531  41984.0  10496.0  0.000001   \n",
      "1                         2.726074    0.021606  41984.0   8396.0  0.000001   \n",
      "2                         1.489014    0.020386  41984.0   6997.0  0.000001   \n",
      "3                         1.407959    0.019775  41984.0   5997.0  0.000001   \n",
      "4                         1.264648    0.021240  41984.0   5248.0  0.000001   \n",
      "\n",
      "   n_time_steps  slurm_job_id n_cuda_devices  n_processes  \\\n",
      "0         200.0      230507.0              4            4   \n",
      "1         200.0      230508.0              5            5   \n",
      "2         200.0      230509.0              6            6   \n",
      "3         200.0      230510.0              7            7   \n",
      "4         200.0      230511.0              8            8   \n",
      "\n",
      "                                     git_hash  \\\n",
      "0  0f0cbad2dd661c59f9a2c43740eda12d90cca413\\n   \n",
      "1  0f0cbad2dd661c59f9a2c43740eda12d90cca413\\n   \n",
      "2  0f0cbad2dd661c59f9a2c43740eda12d90cca413\\n   \n",
      "3  0f0cbad2dd661c59f9a2c43740eda12d90cca413\\n   \n",
      "4  0f0cbad2dd661c59f9a2c43740eda12d90cca413\\n   \n",
      "\n",
      "                                          git_status  \n",
      "0   M Figures.ipynb\\n M dgx-2_strong_scaling_benc...  \n",
      "1   M Figures.ipynb\\n M dgx-2_strong_scaling_benc...  \n",
      "2   M Figures.ipynb\\n M dgx-2_strong_scaling_benc...  \n",
      "3   M Figures.ipynb\\n M dgx-2_strong_scaling_benc...  \n",
      "4   M Figures.ipynb\\n M dgx-2_strong_scaling_benc...  \n"
     ]
    }
   ],
   "source": [
    "# DGX-2\n",
    "#strong_scaling_profiling_data = read_profiling_files(\"output_dgx-2/strong_scaling/2022-06-09T160712/\")\n",
    "\n",
    "# HGX\n",
    "strong_scaling_profiling_data = read_profiling_files(\"output_hgx/strong_scaling/2022-06-16T152945/\")\n",
    "\n",
    "print(strong_scaling_profiling_data)"
   ]
  },
  {
   "cell_type": "markdown",
   "metadata": {},
   "source": [
    "## Plotting"
   ]
  },
  {
   "cell_type": "code",
   "execution_count": 11,
   "metadata": {},
   "outputs": [
    {
     "data": {
      "image/png": "[encoded data removed]",
      "text/plain": [
       "<Figure size 1152x432 with 2 Axes>"
      ]
     },
     "metadata": {
      "needs_background": "light"
     },
     "output_type": "display_data"
    }
   ],
   "source": [
    "fig, (ax_weak, ax_strong) = plt.subplots(1, 2, figsize=(16,6))\n",
    "\n",
    "t_total_no_init_or_file_io = weak_scaling_profiling_data[\"t_total\"] \\\n",
    "                            -weak_scaling_profiling_data[\"t_init\"] \\\n",
    "                            -weak_scaling_profiling_data[\"t_nc_write\"] \\\n",
    "                            -weak_scaling_profiling_data[\"t_sim_init\"]\n",
    "\n",
    "t_total_halo_exchange = weak_scaling_profiling_data[\"t_mpi_halo_exchange_download\"] \\\n",
    "                        +weak_scaling_profiling_data[\"t_mpi_halo_exchange_sendreceive\"] \\\n",
    "                        +weak_scaling_profiling_data[\"t_mpi_halo_exchange_upload\"]\n",
    "\n",
    "#ax_weak.plot(weak_scaling_profiling_data[\"n_processes\"].to_numpy(dtype=\"int\"), \n",
    "#    speedup(t_total_no_init_or_file_io[0], t_total_no_init_or_file_io), label=\"Total (no init or file I/O)\")\n",
    "\n",
    "ax_weak.plot(weak_scaling_profiling_data[\"n_processes\"][0:].to_numpy(dtype=\"int\"), \n",
    "    speedup(weak_scaling_profiling_data[\"t_full_step\"][0], weak_scaling_profiling_data[\"t_full_step\"][0:]), label=\"Total (no init or file I/O)\")\n",
    "\n",
    "ax_weak.plot(weak_scaling_profiling_data[\"n_processes\"][0:].to_numpy(dtype=\"int\"), \n",
    "    speedup(t_total_halo_exchange[0], t_total_halo_exchange[0:]), label=\"Halo exchange (D/E/U)\", linestyle=\"dashed\")\n",
    "\n",
    "\"\"\"\n",
    "ax_weak.plot(weak_scaling_profiling_data[\"n_processes\"].to_numpy(dtype=\"int\"), \n",
    "    speedup(weak_scaling_profiling_data[\"t_total\"][0], weak_scaling_profiling_data[\"t_total\"]), label=\"Total\")\n",
    "\n",
    "ax_weak.plot(weak_scaling_profiling_data[\"n_processes\"].to_numpy(dtype=\"int\"), \n",
    "    speedup(weak_scaling_profiling_data[\"t_mpi_halo_exchange_sendreceive\"][0], weak_scaling_profiling_data[\"t_mpi_halo_exchange_sendreceive\"]), label=\"MPI send/recv\")\n",
    "\n",
    "ax_weak.plot(weak_scaling_profiling_data[\"n_processes\"].to_numpy(dtype=\"int\"), \n",
    "    speedup(weak_scaling_profiling_data[\"t_mpi_halo_exchange_download\"][0], weak_scaling_profiling_data[\"t_mpi_halo_exchange_download\"]), label=\"Download (GPU->CPU)\")\n",
    "\n",
    "ax_weak.plot(weak_scaling_profiling_data[\"n_processes\"].to_numpy(dtype=\"int\"), \n",
    "    speedup(weak_scaling_profiling_data[\"t_mpi_halo_exchange_upload\"][0], weak_scaling_profiling_data[\"t_mpi_halo_exchange_upload\"]), label=\"Upload (CPU->GPU)\")\n",
    "\n",
    "ax_weak.plot(weak_scaling_profiling_data[\"n_processes\"].to_numpy(dtype=\"int\"), \n",
    "    speedup(weak_scaling_profiling_data[\"t_nc_write\"][0], weak_scaling_profiling_data[\"t_nc_write\"]), label=\"Write to file\")\n",
    "\n",
    "ax_weak.plot(weak_scaling_profiling_data[\"n_processes\"].to_numpy(dtype=\"int\"), \n",
    "    speedup(weak_scaling_profiling_data[\"t_init\"][0], weak_scaling_profiling_data[\"t_init\"]), label=\"Init\")\n",
    "\"\"\"\n",
    "\n",
    "ax_weak.plot(nproc, np.ones(len(nproc)), label=\"Ideal (constant)\", linestyle=\"dotted\")\n",
    "\n",
    "ax_weak.set_xlabel(\"Number of ranks/GPUs\")\n",
    "ax_weak.set_ylabel(\"Efficiency\")\n",
    "ax_weak.legend(loc=\"lower right\")\n",
    "#fig.show()\n",
    "\n",
    "##############################################\n",
    "\n",
    "#fig, ax = plt.subplots(figsize=(8,6))\n",
    "\n",
    "t_total_no_init_or_file_io = strong_scaling_profiling_data[\"t_total\"] \\\n",
    "                            -strong_scaling_profiling_data[\"t_init\"] \\\n",
    "                            -strong_scaling_profiling_data[\"t_nc_write\"] \\\n",
    "                            -strong_scaling_profiling_data[\"t_sim_init\"]\n",
    "\n",
    "t_total_halo_exchange = strong_scaling_profiling_data[\"t_mpi_halo_exchange_download\"] \\\n",
    "                        +strong_scaling_profiling_data[\"t_mpi_halo_exchange_sendreceive\"] \\\n",
    "                        +strong_scaling_profiling_data[\"t_mpi_halo_exchange_upload\"]\n",
    "\n",
    "#ax_strong.plot(strong_scaling_profiling_data[\"n_processes\"].to_numpy(dtype=\"int\"), \n",
    "#    speedup(t_total_no_init_or_file_io[0], t_total_no_init_or_file_io)*4, label=\"Total (no init or file I/O)\")\n",
    "\n",
    "ax_strong.plot(strong_scaling_profiling_data[\"n_processes\"].to_numpy(dtype=\"int\"), \n",
    "    speedup(strong_scaling_profiling_data[\"t_full_step\"][0], strong_scaling_profiling_data[\"t_full_step\"])*4, label=\"Total (no init or file I/O)\")\n",
    "\n",
    "ax_strong.plot(strong_scaling_profiling_data[\"n_processes\"].to_numpy(dtype=\"int\"), \n",
    "    speedup(t_total_halo_exchange[0], t_total_halo_exchange)*4, label=\"Halo exchange (D/E/U)\", linestyle=\"dashed\")\n",
    "\n",
    "\"\"\"\n",
    "ax_strong.plot(strong_scaling_profiling_data[\"n_processes\"].to_numpy(dtype=\"int\"), \n",
    "    speedup(strong_scaling_profiling_data[\"t_total\"][0], strong_scaling_profiling_data[\"t_total\"])*4, label=\"Total\")\n",
    "    \n",
    "ax_strong.plot(strong_scaling_profiling_data[\"n_processes\"].to_numpy(dtype=\"int\"), \n",
    "    speedup(strong_scaling_profiling_data[\"t_mpi_halo_exchange_sendreceive\"][0], strong_scaling_profiling_data[\"t_mpi_halo_exchange_sendreceive\"]), label=\"MPI send/recv\")\n",
    "\n",
    "ax_strong.plot(strong_scaling_profiling_data[\"n_processes\"].to_numpy(dtype=\"int\"), \n",
    "    speedup(strong_scaling_profiling_data[\"t_mpi_halo_exchange_download\"][0], strong_scaling_profiling_data[\"t_mpi_halo_exchange_download\"]), label=\"Download (GPU->CPU)\")\n",
    "\n",
    "ax_strong.plot(strong_scaling_profiling_data[\"n_processes\"].to_numpy(dtype=\"int\"), \n",
    "    speedup(strong_scaling_profiling_data[\"t_mpi_halo_exchange_upload\"][0], strong_scaling_profiling_data[\"t_mpi_halo_exchange_upload\"]), label=\"Upload (CPU->GPU)\")\n",
    "\n",
    "ax_strong.plot(strong_scaling_profiling_data[\"n_processes\"].to_numpy(dtype=\"int\"), \n",
    "    speedup(strong_scaling_profiling_data[\"t_nc_write\"][0], strong_scaling_profiling_data[\"t_nc_write\"]), label=\"Write to file\")\n",
    "\n",
    "ax_strong.plot(strong_scaling_profiling_data[\"n_processes\"].to_numpy(dtype=\"int\"), \n",
    "    speedup(strong_scaling_profiling_data[\"t_init\"][0], strong_scaling_profiling_data[\"t_init\"]), label=\"Init\")\n",
    "\"\"\"\n",
    "\n",
    "#ax_strong.plot(nproc, amdahls_speedup(0.9, nproc), label=\"Amdahls 90%\", linestyle=\"dashed\")\n",
    "#ax_strong.plot(nproc, amdahls_speedup(0.5, nproc), label=\"Amdahls 50%\", linestyle=\"dashed\")\n",
    "#ax_strong.plot(nproc, amdahls_speedup(0.1, nproc), label=\"Amdahls 10%\", linestyle=\"dashed\")\n",
    "\n",
    "#ax_strong.plot(nproc, gustafsons_speedup(0.9, nproc), label=\"Gustafsons 90%\")\n",
    "#ax_strong.plot(nproc, gustafsons_speedup(0.5, nproc), label=\"Gustafsons 50%\")\n",
    "#ax_strong.plot(nproc, gustafsons_speedup(0.1, nproc), label=\"Gustafsons 10%\")\n",
    "\n",
    "ax_strong.plot(nproc[3:], nproc[3:], label=\"Ideal (linear)\", linestyle=\"dotted\")\n",
    "\n",
    "ax_strong.set_xlabel(\"Number of ranks/GPUs\")\n",
    "ax_strong.set_ylabel(\"Speedup\")\n",
    "ax_strong.legend(loc=\"upper left\")\n",
    "fig.show()"
   ]
  },
  {
   "cell_type": "code",
   "execution_count": 18,
   "metadata": {},
   "outputs": [
    {
     "data": {
      "image/png": "[encoded data removed]",
      "text/plain": [
       "<Figure size 432x288 with 1 Axes>"
      ]
     },
     "metadata": {
      "needs_background": "light"
     },
     "output_type": "display_data"
    }
   ],
   "source": [
    "bar_width = 0.8\n",
    "\n",
    "share_init = (profiling_data[\"t_init\"]+profiling_data[\"t_sim_init\"])/profiling_data[\"t_total\"]\n",
    "share_mpi = profiling_data[\"t_step_mpi_halo_exchange\"]/profiling_data[\"t_total\"]\n",
    "share_simulate = profiling_data[\"t_step_mpi\"]/profiling_data[\"t_total\"]\n",
    "\n",
    "plt.bar(profiling_data[\"n_processes\"], \n",
    "    share_init, color='red', edgecolor='white', width=bar_width, label=\"Init\")\n",
    "\n",
    "plt.bar(profiling_data[\"n_processes\"], \n",
    "    share_mpi, bottom=share_init, color='orange', edgecolor='white', width=bar_width, label=\"MPI\")\n",
    "\n",
    "plt.bar(profiling_data[\"n_processes\"], \n",
    "    share_simulate, bottom=share_init+share_mpi , color='green', edgecolor='white', width=bar_width, label=\"Simulate\")\n",
    "\n",
    "plt.xlabel(\"Number of cores/GPUs\")\n",
    "plt.ylabel(\"Share of normalized runtime\")\n",
    "plt.legend(loc=\"upper left\")\n",
    "\n",
    "plt.show()"
   ]
  },
  {
   "cell_type": "code",
   "execution_count": 19,
   "metadata": {},
   "outputs": [
    {
     "data": {
      "image/png": "[encoded data removed]",
      "text/plain": [
       "<Figure size 432x288 with 1 Axes>"
      ]
     },
     "metadata": {
      "needs_background": "light"
     },
     "output_type": "display_data"
    }
   ],
   "source": [
    "bar_width = 0.8\n",
    "\n",
    "share_init = (profiling_data[\"t_init\"]+profiling_data[\"t_sim_init\"])\n",
    "share_mpi = profiling_data[\"t_step_mpi_halo_exchange\"]\n",
    "share_simulate = profiling_data[\"t_step_mpi\"]\n",
    "\n",
    "plt.bar(profiling_data[\"n_processes\"], \n",
    "    share_init, color='red', edgecolor='white', width=bar_width, label=\"Init\")\n",
    "\n",
    "plt.bar(profiling_data[\"n_processes\"], \n",
    "    share_mpi, bottom=share_init, color='orange', edgecolor='white', width=bar_width, label=\"MPI\")\n",
    "\n",
    "plt.bar(profiling_data[\"n_processes\"], \n",
    "    share_simulate, bottom=share_init+share_mpi , color='green', edgecolor='white', width=bar_width, label=\"Simulate\")\n",
    "\n",
    "plt.xlabel(\"Number of cores/GPUs\")\n",
    "plt.ylabel(\"Runtime (s)\")\n",
    "plt.legend(loc=\"upper right\")\n",
    "\n",
    "plt.show()"
   ]
  },
  {
   "cell_type": "code",
   "execution_count": 22,
   "metadata": {},
   "outputs": [
    {
     "data": {
      "image/png": "[encoded data removed]",
      "text/plain": [
       "<Figure size 432x288 with 1 Axes>"
      ]
     },
     "metadata": {
      "needs_background": "light"
     },
     "output_type": "display_data"
    }
   ],
   "source": [
    "bar_width = 0.8\n",
    "\n",
    "share_init = (profiling_data[\"t_init\"]+profiling_data[\"t_sim_init\"])\n",
    "share_mpi = profiling_data[\"t_step_mpi_halo_exchange\"]\n",
    "share_simulate = profiling_data[\"t_step\"]\n",
    "\n",
    "\n",
    "plt.bar(profiling_data[\"n_processes\"], \n",
    "    share_simulate, color='green', edgecolor='white', width=bar_width, label=\"Simulate\")\n",
    "\n",
    "plt.xlabel(\"Number of cores/GPUs\")\n",
    "plt.ylabel(\"Runtime (s)\")\n",
    "plt.legend(loc=\"upper right\")\n",
    "\n",
    "plt.show()"
   ]
  },
  {
   "cell_type": "markdown",
   "metadata": {},
   "source": [
    "1. ~~Sjekk opp behandling av randvilkår. Fungerer ikke som det skal. Offset-problematikk. Få periodiske render til å funke med 1 (først hele domenet, så indre og yttre domene) og 2 subdomener.~~\n",
    "2. Sjekk overføringer east-west. Kan vi droppe? – Ja, men se punkt 1.\n",
    "3. ~~Sjekk IC-bug? Bare to felter i K-H?!~~\n",
    "4. ~~Kjør lenger kjøring~~\n",
    "5. Sjekk på OsloMet-boks!\n",
    "6. Sjekk reproduserbarhet av løsning\n",
    "7. Ny profilering og sjekk av parallelkjøring"
   ]
  },
  {
   "cell_type": "markdown",
   "metadata": {},
   "source": []
  }
 ],
 "metadata": {
  "interpreter": {
   "hash": "5ec8a684eb355694b427c525a814c01edbb663f485e9b356374be21a7726d858"
  },
  "kernelspec": {
   "display_name": "Python 3.7.12 ('ShallowWaterGPU')",
   "language": "python",
   "name": "python3"
  },
  "language_info": {
   "codemirror_mode": {
    "name": "ipython",
    "version": 3
   },
   "file_extension": ".py",
   "mimetype": "text/x-python",
   "name": "python",
   "nbconvert_exporter": "python",
   "pygments_lexer": "ipython3",
   "version": "3.7.12"
  }
 },
 "nbformat": 4,
 "nbformat_minor": 4
}
