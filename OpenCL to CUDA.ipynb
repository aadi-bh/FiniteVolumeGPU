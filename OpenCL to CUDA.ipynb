{
 "cells": [
  {
   "cell_type": "code",
   "execution_count": 1,
   "metadata": {},
   "outputs": [],
   "source": [
    "#Lets have matplotlib \"inline\"\n",
    "%matplotlib inline\n",
    "\n",
    "#Import packages we need\n",
    "import numpy as np\n",
    "from matplotlib import animation, rc\n",
    "from matplotlib import pyplot as plt\n",
    "\n",
    "import subprocess\n",
    "import os\n",
    "import gc\n",
    "import datetime\n",
    "import importlib\n",
    "\n",
    "import pycuda.autoinit\n",
    "import pycuda.driver\n",
    "\n",
    "try:\n",
    "    from StringIO import StringIO\n",
    "except ImportError:\n",
    "    from io import StringIO\n",
    "\n",
    "#Set large figure sizes\n",
    "#Note, this prevents nice figures for articles...\n",
    "rc('figure', figsize=(16.0, 12.0))\n",
    "rc('animation', html='html5')\n",
    "\n",
    "#Finally, import our simulator\n",
    "#from SWESimulators import FBL, CTCS, LxF, FORCE, HLL, HLL2, KP07, KP07_dimsplit, WAF, CDKLM16, DataOutput, PlotHelper"
   ]
  },
  {
   "cell_type": "code",
   "execution_count": 2,
   "metadata": {},
   "outputs": [],
   "source": [
    "def gen_test_data(nx, ny, num_ghost_cells):\n",
    "    width = 100.0\n",
    "    height = width\n",
    "    dx = width / float(nx)\n",
    "    dy = height / float(ny)\n",
    "\n",
    "    h = np.zeros((ny+2*num_ghost_cells, nx+2*num_ghost_cells), dtype=np.float32); \n",
    "    hu = np.zeros((ny+2*num_ghost_cells, nx+2*num_ghost_cells), dtype=np.float32);\n",
    "    hv = np.zeros((ny+2*num_ghost_cells, nx+2*num_ghost_cells), dtype=np.float32);\n",
    "\n",
    "    #Create a gaussian \"dam break\" that will not form shocks\n",
    "    x_center = dx*nx/2.0\n",
    "    y_center = dy*ny/2.0\n",
    "    size = width \n",
    "    for j in range(-num_ghost_cells, ny+num_ghost_cells):\n",
    "        y = dy*(j+0.5) - y_center\n",
    "        for i in range(-num_ghost_cells, nx+num_ghost_cells):\n",
    "            x = dx*(i+0.5) - x_center\n",
    "            \n",
    "            h[j+num_ghost_cells, i+num_ghost_cells] = 0.5 + 0.1*np.exp(-(x**2/size + y**2/size))\n",
    "            #hu[j+num_ghost_cells, i+num_ghost_cells] = 0.01*np.sin(x)*np.exp(-(x**2/size))\n",
    "            hu[j+num_ghost_cells, i+num_ghost_cells] = 0.1*np.exp(-(x**2/size + y**2/size))\n",
    "            hv[j+num_ghost_cells, i+num_ghost_cells] = 0.1*np.exp(-(x**2/size + y**2/size))\n",
    "    \n",
    "    return h, hu, hv, dx, dy, nx, ny"
   ]
  },
  {
   "cell_type": "code",
   "execution_count": 3,
   "metadata": {},
   "outputs": [
    {
     "name": "stdout",
     "output_type": "stream",
     "text": [
      "Sum of absolute difference:  0.0\n"
     ]
    }
   ],
   "source": [
    "from SWESimulators import Common\n",
    "importlib.reload(Common)\n",
    "\n",
    "nx = 10\n",
    "ny = 15\n",
    "nx_halo = 2\n",
    "ny_halo = 3\n",
    "a = np.random.rand(ny+2*ny_halo, nx+2*nx_halo).astype(np.float32)\n",
    "\n",
    "a_gpu = Common.CUDAArray2D(nx, ny, nx_halo, ny_halo, a)\n",
    "b = a_gpu.download(async=True)\n",
    "pycuda.driver.Context.synchronize()\n",
    "print(\"Sum of absolute difference: \", np.sum(np.abs(a-b)))"
   ]
  },
  {
   "cell_type": "code",
   "execution_count": 4,
   "metadata": {
    "scrolled": false
   },
   "outputs": [
    {
     "data": {
      "text/plain": [
       "<matplotlib.colorbar.Colorbar at 0xef53611a20>"
      ]
     },
     "execution_count": 4,
     "metadata": {},
     "output_type": "execute_result"
    },
    {
     "data": {
      "image/png": "[encoded data removed]",
      "text/plain": [
       "<Figure size 432x288 with 4 Axes>"
      ]
     },
     "metadata": {},
     "output_type": "display_data"
    }
   ],
   "source": [
    "from SWESimulators import LxF\n",
    "importlib.reload(LxF)\n",
    "\n",
    "nx = 10\n",
    "ny = 15\n",
    "num_ghost_cells = 1\n",
    "dt = 0.01\n",
    "g = 9.81\n",
    "\n",
    "h0, hu0, hv0, dx, dy, nx, ny = gen_test_data(nx, ny, num_ghost_cells)\n",
    "plt.figure()\n",
    "plt.subplot(121)\n",
    "plt.imshow(h0)\n",
    "plt.colorbar()\n",
    "\n",
    "sim = LxF.LxF(h0, hu0, hv0, \\\n",
    "                nx, ny, \\\n",
    "                dx, dy, dt, \\\n",
    "                g)\n",
    "\n",
    "t = sim.step(0.02)\n",
    "h1, hu1, hv1 = sim.download()\n",
    "\n",
    "plt.subplot(122)\n",
    "plt.imshow(h1)\n",
    "plt.colorbar()"
   ]
  },
  {
   "cell_type": "code",
   "execution_count": 10,
   "metadata": {
    "scrolled": false
   },
   "outputs": [
    {
     "data": {
      "text/plain": [
       "<matplotlib.colorbar.Colorbar at 0xef53931160>"
      ]
     },
     "execution_count": 10,
     "metadata": {},
     "output_type": "execute_result"
    },
    {
     "data": {
      "image/png": "[encoded data removed]",
      "text/plain": [
       "<Figure size 432x288 with 4 Axes>"
      ]
     },
     "metadata": {},
     "output_type": "display_data"
    }
   ],
   "source": [
    "from SWESimulators import FORCE\n",
    "importlib.reload(FORCE)\n",
    "\n",
    "nx = 10\n",
    "ny = 15\n",
    "num_ghost_cells = 1\n",
    "dt = 0.01\n",
    "g = 9.81\n",
    "\n",
    "h0, hu0, hv0, dx, dy, nx, ny = gen_test_data(nx, ny, num_ghost_cells)\n",
    "plt.figure()\n",
    "plt.subplot(121)\n",
    "plt.imshow(h0)\n",
    "plt.colorbar()\n",
    "\n",
    "sim = FORCE.FORCE(h0, hu0, hv0, \\\n",
    "                nx, ny, \\\n",
    "                dx, dy, dt, \\\n",
    "                g)\n",
    "\n",
    "t = sim.step(0.02)\n",
    "h1, hu1, hv1 = sim.download()\n",
    "\n",
    "plt.subplot(122)\n",
    "plt.imshow(h1)\n",
    "plt.colorbar()"
   ]
  },
  {
   "cell_type": "code",
   "execution_count": null,
   "metadata": {},
   "outputs": [],
   "source": []
  }
 ],
 "metadata": {
  "kernelspec": {
   "display_name": "Python 3",
   "language": "python",
   "name": "python3"
  },
  "language_info": {
   "codemirror_mode": {
    "name": "ipython",
    "version": 3
   },
   "file_extension": ".py",
   "mimetype": "text/x-python",
   "name": "python",
   "nbconvert_exporter": "python",
   "pygments_lexer": "ipython3",
   "version": "3.6.5"
  }
 },
 "nbformat": 4,
 "nbformat_minor": 2
}
