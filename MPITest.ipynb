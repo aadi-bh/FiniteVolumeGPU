{
 "cells": [
  {
   "cell_type": "markdown",
   "metadata": {},
   "source": [
    "# Starting cluster\n",
    "\n",
    "## Prerequisites\n",
    "First, you need to install MPI, on windows use MS-MPI:\n",
    "https://msdn.microsoft.com/en-us/library/bb524831(v=vs.85).aspx\n",
    "\n",
    "\n",
    "## With a profile (not working)\n",
    "In theory, you should be able to create a profile using\n",
    "```\n",
    "ipython profile create --parallel --profile=myprofile\n",
    "```\n",
    "and then set\n",
    "```\n",
    "c.IPClusterEngines.engine_launcher_class = 'MPIEngineSetLauncher'\n",
    "```\n",
    "in ```<IPYTHON-DIR>/profile_myprofile/ipcluster_config.py```. This should then enable you to start a cluster using\n",
    "```\n",
    "ipcluster start --profile=myprofile\n",
    "```\n",
    "or alternatively through the Clusters tab in Jupyter\n",
    "\n",
    "\n",
    "## Without a profile (not working)\n",
    "An alternative is to run\n",
    "```\n",
    "ipcluster start --engines=MPI\n",
    "```\n",
    "\n",
    "\n",
    "## Manual start (working)\n",
    "This, however, does *not* work for me on Windows. What does work is the following:\n",
    "\n",
    "Start a controller using\n",
    "```\n",
    "ipcontroller --ip='*'\n",
    "```\n",
    "and then start several engines using mpiexec:\n",
    "```\n",
    "mpiexec -n 4 ipengine --mpi\n",
    "```"
   ]
  },
  {
   "cell_type": "code",
   "execution_count": 1,
   "metadata": {},
   "outputs": [],
   "source": [
    "from GPUSimulators import IPythonMagic"
   ]
  },
  {
   "cell_type": "code",
   "execution_count": 2,
   "metadata": {},
   "outputs": [
    {
     "name": "stderr",
     "output_type": "stream",
     "text": [
      "Console logger using level INFO\n",
      "File logger using level DEBUG to mpi.log\n",
      "Python version 3.6.7 |Anaconda custom (64-bit)| (default, Oct 28 2018, 19:44:12) [MSC v.1915 64 bit (AMD64)]\n"
     ]
    }
   ],
   "source": [
    "%setup_logging --out mpi.log"
   ]
  },
  {
   "cell_type": "code",
   "execution_count": 3,
   "metadata": {},
   "outputs": [
    {
     "name": "stderr",
     "output_type": "stream",
     "text": [
      "Starting IPController\n",
      "Starting IPEngines\n",
      "Waiting for cluster...\n",
      "Waiting for cluster...\n",
      "Waiting for cluster...\n",
      "Waiting for cluster...\n",
      "Waiting for cluster...\n",
      "Waiting for cluster...\n",
      "Waiting for cluster...\n",
      "Waiting for cluster...\n",
      "Waiting for cluster...\n",
      "Waiting for cluster...\n",
      "Waiting for cluster...\n",
      "Waiting for cluster...\n",
      "Done\n"
     ]
    }
   ],
   "source": [
    "%setup_mpi --num_engines 4"
   ]
  },
  {
   "cell_type": "code",
   "execution_count": 4,
   "metadata": {},
   "outputs": [
    {
     "name": "stdout",
     "output_type": "stream",
     "text": [
      "profile: default\n",
      "Number of ids: 4\n",
      "IDs: [0, 1, 2, 3]\n"
     ]
    }
   ],
   "source": [
    "import ipyparallel\n",
    "\n",
    "# attach to a running cluster\n",
    "cluster = ipyparallel.Client()#profile='mpi')\n",
    "\n",
    "print('profile:', cluster.profile)\n",
    "print('Number of ids:', len(cluster.ids))\n",
    "print(\"IDs:\", cluster.ids) # Print process id numbers"
   ]
  },
  {
   "cell_type": "code",
   "execution_count": 5,
   "metadata": {},
   "outputs": [
    {
     "name": "stdout",
     "output_type": "stream",
     "text": [
      "[stdout:0] MPI rank 0 of 4 OK\n",
      "[stdout:1] MPI rank 1 of 4 OK\n",
      "[stdout:2] MPI rank 2 of 4 OK\n",
      "[stdout:3] MPI rank 3 of 4 OK\n"
     ]
    }
   ],
   "source": [
    "%%px\n",
    "\n",
    "from mpi4py import MPI\n",
    "comm = MPI.COMM_WORLD\n",
    "print(\"MPI rank {:d} of {:d} OK\".format(comm.rank, comm.size))\n",
    "comm.Barrier()   "
   ]
  },
  {
   "cell_type": "code",
   "execution_count": 6,
   "metadata": {},
   "outputs": [
    {
     "name": "stdout",
     "output_type": "stream",
     "text": [
      "[stdout:0] \n",
      "Starting\n",
      "0: sent data to 1: [91 81 57 75 60 73  2 68 11 50 71 17 65 20  4 64 48 34 66 37  5 85 42 80\n",
      " 25 78 83 94 38 72 27 93 82 56 92 51 88 22 29 79 14 13 47 35  0 30 63  3\n",
      " 12 99 24 23 15 32 44  1 62 67 19  8 87 45 16 61 84  7 49 10 21 69 89 70\n",
      " 39 86 98 90 36  9 53 54 33 43 26 58 77 40 95  6 41 74 46 28 59 76 31 97\n",
      " 55 18 96 52]\n",
      "\n",
      "[stdout:1] \n",
      "Starting\n",
      "1: received data from 0: [91 81 57 75 60 73  2 68 11 50 71 17 65 20  4 64 48 34 66 37  5 85 42 80\n",
      " 25 78 83 94 38 72 27 93 82 56 92 51 88 22 29 79 14 13 47 35  0 30 63  3\n",
      " 12 99 24 23 15 32 44  1 62 67 19  8 87 45 16 61 84  7 49 10 21 69 89 70\n",
      " 39 86 98 90 36  9 53 54 33 43 26 58 77 40 95  6 41 74 46 28 59 76 31 97\n",
      " 55 18 96 52]\n",
      "\n",
      "[stdout:2] \n",
      "Starting\n",
      "2: idle\n",
      "\n",
      "[stdout:3] \n",
      "Starting\n",
      "3: idle\n",
      "\n"
     ]
    }
   ],
   "source": [
    "%%px\n",
    "\n",
    "from mpi4py import MPI\n",
    "import numpy\n",
    "\n",
    "comm = MPI.COMM_WORLD\n",
    "rank = comm.Get_rank()\n",
    "\n",
    "print(\"Starting\")\n",
    "# passing MPI datatypes explicitly\n",
    "if rank == 0:\n",
    "    data = numpy.arange(100, dtype='i')\n",
    "    numpy.random.shuffle(data)\n",
    "    comm.Send([data, MPI.INT], dest=1, tag=77)\n",
    "    print(\"{0}: sent data to 1: {1}\".format(rank, data))\n",
    "elif rank == 1:\n",
    "    data = numpy.empty(100, dtype='i')\n",
    "    comm.Recv([data, MPI.INT], source=0, tag=77)\n",
    "    print(\"{0}: received data from 0: {1}\".format(rank, data))\n",
    "else:\n",
    "    print(\"{0}: idle\".format(rank))\n",
    "    \n",
    "print()"
   ]
  },
  {
   "cell_type": "code",
   "execution_count": 7,
   "metadata": {},
   "outputs": [],
   "source": [
    "%%px\n",
    "from GPUSimulators import IPythonMagic"
   ]
  },
  {
   "cell_type": "code",
   "execution_count": 8,
   "metadata": {},
   "outputs": [
    {
     "name": "stderr",
     "output_type": "stream",
     "text": [
      "[stderr:0] \n",
      "Console logger using level INFO\n",
      "File logger using level DEBUG to mpi_0.log\n",
      "Python version 3.6.7 |Anaconda custom (64-bit)| (default, Oct 28 2018, 19:44:12) [MSC v.1915 64 bit (AMD64)]\n",
      "[stderr:1] \n",
      "Console logger using level INFO\n",
      "File logger using level DEBUG to mpi_1.log\n",
      "Python version 3.6.7 |Anaconda custom (64-bit)| (default, Oct 28 2018, 19:44:12) [MSC v.1915 64 bit (AMD64)]\n",
      "[stderr:2] \n",
      "Console logger using level INFO\n",
      "File logger using level DEBUG to mpi_2.log\n",
      "Python version 3.6.7 |Anaconda custom (64-bit)| (default, Oct 28 2018, 19:44:12) [MSC v.1915 64 bit (AMD64)]\n",
      "[stderr:3] \n",
      "Console logger using level INFO\n",
      "File logger using level DEBUG to mpi_3.log\n",
      "Python version 3.6.7 |Anaconda custom (64-bit)| (default, Oct 28 2018, 19:44:12) [MSC v.1915 64 bit (AMD64)]\n"
     ]
    }
   ],
   "source": [
    "%%px\n",
    "%setup_logging --out \"'mpi_' + str(MPI.COMM_WORLD.rank) + '.log'\""
   ]
  },
  {
   "cell_type": "code",
   "execution_count": 9,
   "metadata": {},
   "outputs": [
    {
     "name": "stderr",
     "output_type": "stream",
     "text": [
      "[stderr:0] \n",
      "Registering my_context in user workspace\n",
      "PyCUDA version 2018.1.1\n",
      "CUDA version (10, 0, 0)\n",
      "Driver version 10000\n",
      "Using 'GeForce 840M' GPU\n",
      "Created context handle <863101499808>\n",
      "Using CUDA cache dir c:\\Users\\anbro\\Documents\\projects\\GPUSimulators\\GPUSimulators\\cuda_cache\n",
      "Autotuning enabled. It may take several minutes to run the code the first time: have patience\n",
      "[stderr:1] \n",
      "Registering my_context in user workspace\n",
      "PyCUDA version 2018.1.1\n",
      "CUDA version (10, 0, 0)\n",
      "Driver version 10000\n",
      "Using 'GeForce 840M' GPU\n",
      "Created context handle <912376276640>\n",
      "Using CUDA cache dir c:\\Users\\anbro\\Documents\\projects\\GPUSimulators\\GPUSimulators\\cuda_cache\n",
      "Autotuning enabled. It may take several minutes to run the code the first time: have patience\n",
      "[stderr:2] \n",
      "Registering my_context in user workspace\n",
      "PyCUDA version 2018.1.1\n",
      "CUDA version (10, 0, 0)\n",
      "Driver version 10000\n",
      "Using 'GeForce 840M' GPU\n",
      "Created context handle <390889602416>\n",
      "Using CUDA cache dir c:\\Users\\anbro\\Documents\\projects\\GPUSimulators\\GPUSimulators\\cuda_cache\n",
      "Autotuning enabled. It may take several minutes to run the code the first time: have patience\n",
      "[stderr:3] \n",
      "Registering my_context in user workspace\n",
      "PyCUDA version 2018.1.1\n",
      "CUDA version (10, 0, 0)\n",
      "Driver version 10000\n",
      "Using 'GeForce 840M' GPU\n",
      "Created context handle <550832168304>\n",
      "Using CUDA cache dir c:\\Users\\anbro\\Documents\\projects\\GPUSimulators\\GPUSimulators\\cuda_cache\n",
      "Autotuning enabled. It may take several minutes to run the code the first time: have patience\n"
     ]
    }
   ],
   "source": [
    "%%px\n",
    "%cuda_context_handler my_context"
   ]
  },
  {
   "cell_type": "code",
   "execution_count": 10,
   "metadata": {},
   "outputs": [],
   "source": [
    "%%px\n",
    "%matplotlib inline"
   ]
  },
  {
   "cell_type": "code",
   "execution_count": 11,
   "metadata": {},
   "outputs": [],
   "source": [
    "%%px\n",
    "import numpy as np\n",
    "from matplotlib import pyplot as plt"
   ]
  },
  {
   "cell_type": "code",
   "execution_count": 12,
   "metadata": {},
   "outputs": [],
   "source": [
    "%%px\n",
    "\n",
    "\n",
    "def getFactors(number, num_factors):\n",
    "    # Adapted from https://stackoverflow.com/questions/28057307/factoring-a-number-into-roughly-equal-factors\n",
    "    # Original code by https://stackoverflow.com/users/3928385/ishamael\n",
    "    \n",
    "    #Dictionary to remember already computed permutations\n",
    "    memo = {}\n",
    "    def dp(n, left): # returns tuple (cost, [factors])\n",
    "        \"\"\"\n",
    "        Recursively searches through all factorizations\n",
    "        \"\"\"\n",
    "        \n",
    "        #Already tried: return existing result\n",
    "        if (n, left) in memo: \n",
    "            return memo[(n, left)]\n",
    "\n",
    "        #Spent all factors: return number itself\n",
    "        if left == 1:\n",
    "            return (n, [n])\n",
    "\n",
    "        #Find new factor\n",
    "        i = 2\n",
    "        best = n\n",
    "        bestTuple = [n]\n",
    "        while i * i < n:\n",
    "            #If factor found\n",
    "            if n % i == 0:\n",
    "                #Factorize remainder\n",
    "                rem = dp(n // i, left - 1)\n",
    "                \n",
    "                #If new permutation better, save it\n",
    "                if rem[0] + i < best:\n",
    "                    best = rem[0] + i\n",
    "                    bestTuple = [i] + rem[1]\n",
    "            i += 1\n",
    "\n",
    "        #Store calculation\n",
    "        memo[(n, left)] = (best, bestTuple)\n",
    "        return memo[(n, left)]\n",
    "    \n",
    "    assert(isinstance(number, int))\n",
    "    assert(isinstance(num_factors, int))\n",
    "    \n",
    "    factors = dp(number, num_factors)[1]\n",
    "    \n",
    "    if (len(factors) < num_factors):\n",
    "        #Split problematic 4\n",
    "        if (4 in factors):\n",
    "            factors.remove(4)\n",
    "            factors.append(2)\n",
    "            factors.append(2)\n",
    "            \n",
    "    factors = factors + [1]*(num_factors - len(factors))\n",
    "    return factors"
   ]
  },
  {
   "cell_type": "code",
   "execution_count": 13,
   "metadata": {},
   "outputs": [],
   "source": [
    "%%px\n",
    "\n",
    "def getCoordinate(rank, grid):\n",
    "    i = (rank % grid[0])\n",
    "    j = (rank // grid[0])\n",
    "    \n",
    "    return i, j\n",
    "\n",
    "\n",
    "def getRank(i, j, grid):\n",
    "    return j*grid[0] + i\n",
    "\n",
    "\n",
    "def getEast(rank, grid):\n",
    "    i, j = getCoordinate(rank, grid)\n",
    "    i = (i+1) % grid[0]\n",
    "    return getRank(i, j, grid)\n",
    "\n",
    "def getWest(rank, grid):\n",
    "    i, j = getCoordinate(rank, grid)\n",
    "    i = (i+grid[0]-1) % grid[0]\n",
    "    return getRank(i, j, grid)\n",
    "\n",
    "def getNorth(rank, grid):\n",
    "    i, j = getCoordinate(rank, grid)\n",
    "    j = (j+1) % grid[1]\n",
    "    return getRank(i, j, grid)\n",
    "\n",
    "def getSouth(rank, grid):\n",
    "    i, j = getCoordinate(rank, grid)\n",
    "    j = (j+grid[1]-1) % grid[1]\n",
    "    return getRank(i, j, grid)"
   ]
  },
  {
   "cell_type": "code",
   "execution_count": 14,
   "metadata": {},
   "outputs": [
    {
     "name": "stdout",
     "output_type": "stream",
     "text": [
      "[stdout:0] \n",
      "[3, 4]\n",
      "0 1 2 \n",
      "3 4 5 \n",
      "6 7 8 \n",
      "9 10 11 \n",
      "0 (0, 0) 3 9 1 2\n",
      "1 (1, 0) 4 10 2 0\n",
      "2 (2, 0) 5 11 0 1\n",
      "3 (0, 1) 6 0 4 5\n",
      "4 (1, 1) 7 1 5 3\n",
      "5 (2, 1) 8 2 3 4\n",
      "6 (0, 2) 9 3 7 8\n",
      "7 (1, 2) 10 4 8 6\n",
      "8 (2, 2) 11 5 6 7\n",
      "9 (0, 3) 0 6 10 11\n",
      "10 (1, 3) 1 7 11 9\n",
      "11 (2, 3) 2 8 9 10\n"
     ]
    }
   ],
   "source": [
    "%%px \n",
    "\n",
    "if (MPI.COMM_WORLD.rank == 0):\n",
    "    n_procs = 12\n",
    "    grid = getFactors(n_procs, 2)\n",
    "    \n",
    "    print(grid)\n",
    "    for j in range(grid[1]):\n",
    "        for i in range(grid[0]):\n",
    "            print(j*grid[0]+i, end=\" \")\n",
    "        print()\n",
    "\n",
    "    for i in range(n_procs):\n",
    "        print(getRank(*getCoordinate(i, grid), grid), getCoordinate(i, grid), getNorth(i, grid), getSouth(i, grid), getEast(i, grid), getWest(i, grid))"
   ]
  },
  {
   "cell_type": "code",
   "execution_count": 15,
   "metadata": {},
   "outputs": [],
   "source": [
    "%%px\n",
    "\n",
    "def plotSolution(data, grid):\n",
    "    ny, nx = data.shape\n",
    "    \n",
    "    if (MPI.COMM_WORLD.rank != 0):\n",
    "        mpi_request = MPI.COMM_WORLD.Isend(data, dest=0, tag=MPI.COMM_WORLD.rank)\n",
    "        mpi_request.wait()\n",
    "    else:\n",
    "        def my_imshow(data, idx):\n",
    "            i, j = getCoordinate(idx, grid)\n",
    "            x = i * width\n",
    "            y = j * height \n",
    "            extent=[x, x+width, y, y+height]\n",
    "            plt.imshow(data, extent=extent, vmin=0.4, vmax=0.6)\n",
    "        \n",
    "        mpi_requests = []\n",
    "        for k in range(1, MPI.COMM_WORLD.size):\n",
    "            buffer = np.empty((ny, nx), dtype=np.float32)\n",
    "            mpi_requests += [(buffer, MPI.COMM_WORLD.Irecv(buffer, source=k, tag=k))]\n",
    "\n",
    "        plt.figure()\n",
    "        my_imshow(data, 0)\n",
    "        idx = 1\n",
    "        for buffer, request in mpi_requests:\n",
    "            request.wait()\n",
    "            my_imshow(buffer, idx)\n",
    "            idx += 1\n",
    "        plt.axis('tight')\n",
    "        plt.colorbar()"
   ]
  },
  {
   "cell_type": "code",
   "execution_count": 16,
   "metadata": {},
   "outputs": [],
   "source": [
    "%%px\n",
    "\n",
    "from GPUSimulators.helpers import InitialConditions\n",
    "from GPUSimulators.Simulator import BoundaryCondition\n",
    "\n",
    "nx = 16\n",
    "ny = 15\n",
    "g = 9.81\n",
    "dt = 0.05\n",
    "width = 100\n",
    "height = 100\n",
    "\n",
    "\n",
    "if (MPI.COMM_WORLD.rank == 0):\n",
    "    h0, hu0, hv0, dx, dy = InitialConditions.bump(nx, ny, width, height, g, x_center=0.75, y_center=0.75)\n",
    "else:\n",
    "    h0, hu0, hv0, dx, dy = InitialConditions.bump(nx, ny, width, height, g, h_ref=0.5, h_amp=0.0, u_amp=0.0, v_amp=0.0)\n",
    "    \n",
    "bc = BoundaryCondition({\n",
    "    'north': BoundaryCondition.Type.Dirichlet,\n",
    "    'south': BoundaryCondition.Type.Dirichlet,\n",
    "    'east': BoundaryCondition.Type.Dirichlet,\n",
    "    'west': BoundaryCondition.Type.Dirichlet\n",
    "})\n",
    "\n",
    "arguments = {\n",
    "    'context': my_context,\n",
    "    'h0': h0, 'hu0': hu0, 'hv0': hv0,\n",
    "    'nx': nx, 'ny': ny,\n",
    "    'dx': dx, 'dy': dy, \n",
    "    'g': g,\n",
    "    'boundary_conditions': bc\n",
    "} \n"
   ]
  },
  {
   "cell_type": "code",
   "execution_count": 19,
   "metadata": {},
   "outputs": [
    {
     "data": {
      "text/plain": [
       "[output:0]"
      ]
     },
     "metadata": {},
     "output_type": "display_data"
    },
    {
     "data": {
      "image/png": "[encoded data removed]",
      "text/plain": [
       "<Figure size 432x288 with 2 Axes>"
      ]
     },
     "metadata": {
      "engine": 0
     },
     "output_type": "display_data"
    },
    {
     "data": {
      "image/png": "[encoded data removed]",
      "text/plain": [
       "<Figure size 432x288 with 2 Axes>"
      ]
     },
     "metadata": {
      "engine": 0
     },
     "output_type": "display_data"
    },
    {
     "data": {
      "image/png": "[encoded data removed]",
      "text/plain": [
       "<Figure size 432x288 with 2 Axes>"
      ]
     },
     "metadata": {
      "engine": 0
     },
     "output_type": "display_data"
    },
    {
     "data": {
      "image/png": "[encoded data removed]",
      "text/plain": [
       "<Figure size 432x288 with 2 Axes>"
      ]
     },
     "metadata": {
      "engine": 0
     },
     "output_type": "display_data"
    },
    {
     "data": {
      "image/png": "[encoded data removed]",
      "text/plain": [
       "<Figure size 432x288 with 2 Axes>"
      ]
     },
     "metadata": {
      "engine": 0
     },
     "output_type": "display_data"
    }
   ],
   "source": [
    "%%px\n",
    "from GPUSimulators import KP07_dimsplit\n",
    "\n",
    "sim = KP07_dimsplit.KP07_dimsplit(**arguments)\n",
    "\n",
    "grid = getFactors(MPI.COMM_WORLD.size, 2)\n",
    "rank = MPI.COMM_WORLD.rank\n",
    "    \n",
    "gc_x = int(sim.u0[0].x_halo)\n",
    "gc_y = int(sim.u0[0].y_halo)\n",
    "nx = int(sim.nx)\n",
    "ny = int(sim.ny)\n",
    "\n",
    "n_steps = 1\n",
    "t_end = 5*dt\n",
    "for i in range(n_steps):\n",
    "    t_this = t_end/n_steps\n",
    "    n_steps = int(t_this/dt)\n",
    "    for j in range(n_steps):\n",
    "        #Swap east-west boundary\n",
    "        read_e =  [nx     , gc_y, gc_x, ny]\n",
    "        write_e = [nx+gc_x, gc_y, gc_x, ny]\n",
    "        out_e = sim.u0[0].download(sim.stream, async=False, extent=read_e)\n",
    "        in_e = np.empty((ny, gc_x), dtype=np.float32)\n",
    "        send_e = MPI.COMM_WORLD.Isend(out_e, dest=getEast(rank, grid), tag=1)\n",
    "        recv_e = MPI.COMM_WORLD.Irecv(in_e, source=getEast(rank, grid), tag=0)\n",
    "        #print(\"Send 1 to \", getEast(rank, grid), \" receive 0 from \", getEast(rank, grid))\n",
    "\n",
    "        read_w =  [gc_x, gc_y, gc_x, ny]\n",
    "        write_w = [   0, gc_y, gc_x, ny]\n",
    "        out_w = sim.u0[0].download(sim.stream, async=False, extent=read_w)\n",
    "        in_w = np.empty((ny, gc_x), dtype=np.float32)\n",
    "        send_w = MPI.COMM_WORLD.Isend(out_w, dest=getWest(rank, grid), tag=0)\n",
    "        recv_w = MPI.COMM_WORLD.Irecv(in_w, source=getWest(rank, grid), tag=1)\n",
    "        #print(\"Send 0 to \", getWest(rank, grid), \" receive 1 from \", getWest(rank, grid))\n",
    "\n",
    "        #Swap north-south boundary\n",
    "        read_n =  [gc_x, ny     , nx, gc_y]\n",
    "        write_n = [gc_x, ny+gc_y, nx, gc_y]\n",
    "        out_n = sim.u0[0].download(sim.stream, async=False, extent=read_n)\n",
    "        in_n = np.empty((gc_y, nx), dtype=np.float32)\n",
    "        send_n = MPI.COMM_WORLD.Isend(out_n, dest=getNorth(rank, grid), tag=3)\n",
    "        recv_n = MPI.COMM_WORLD.Irecv(in_n, source=getNorth(rank, grid), tag=2)\n",
    "\n",
    "        read_s =  [gc_x, gc_y, nx, gc_y]\n",
    "        write_s = [gc_x,    0, nx, gc_y]\n",
    "        out_s = sim.u0[0].download(sim.stream, async=False, extent=read_s)\n",
    "        in_s = np.empty((gc_y, nx), dtype=np.float32)\n",
    "        send_s = MPI.COMM_WORLD.Isend(out_s, dest=getSouth(rank, grid), tag=2)\n",
    "        recv_s = MPI.COMM_WORLD.Irecv(in_s, source=getSouth(rank, grid), tag=3)\n",
    "\n",
    "        \n",
    "        recv_e.wait()\n",
    "        recv_w.wait()\n",
    "        recv_n.wait()\n",
    "        recv_s.wait()\n",
    "        \n",
    "        sim.u0[0].upload(in_e, sim.stream, extent=write_e)\n",
    "        sim.u0[0].upload(in_w, sim.stream, extent=write_w)\n",
    "        sim.u0[0].upload(in_n, sim.stream, extent=write_n)\n",
    "        sim.u0[0].upload(in_s, sim.stream, extent=write_s)\n",
    "        \n",
    "        send_e.wait()\n",
    "        send_w.wait()\n",
    "        send_n.wait()\n",
    "        send_s.wait()\n",
    "        \n",
    "        if (rank == 0):\n",
    "            h1 = sim.u0[0].download(sim.stream, extent=[0, 0, nx+2*gc_x, ny+2*gc_y])\n",
    "            plt.figure()\n",
    "            plt.subplot(1,2,1)\n",
    "            plt.imshow(h1)\n",
    "        \n",
    "        #print(sim.simTime())\n",
    "        sim.simulate(dt, dt=dt)\n",
    "        \n",
    "        if (rank == 0):\n",
    "            h1 = sim.u0[0].download(sim.stream, extent=[0, 0, nx+2*gc_x, ny+2*gc_y])\n",
    "            plt.subplot(1,2,2)\n",
    "            plt.imshow(h1)\n",
    "    \n",
    "    \n",
    "    h1 = sim.u0[0].download(sim.stream)\n",
    "    #plotSolution(h1, grid)\n",
    "    "
   ]
  },
  {
   "cell_type": "code",
   "execution_count": null,
   "metadata": {},
   "outputs": [],
   "source": []
  }
 ],
 "metadata": {
  "kernelspec": {
   "display_name": "Python [default]",
   "language": "python",
   "name": "python3"
  },
  "language_info": {
   "codemirror_mode": {
    "name": "ipython",
    "version": 3
   },
   "file_extension": ".py",
   "mimetype": "text/x-python",
   "name": "python",
   "nbconvert_exporter": "python",
   "pygments_lexer": "ipython3",
   "version": "3.6.7"
  }
 },
 "nbformat": 4,
 "nbformat_minor": 2
}
